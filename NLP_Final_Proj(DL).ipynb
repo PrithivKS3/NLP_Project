{
 "cells": [
  {
   "cell_type": "markdown",
   "id": "e1d2de58-5516-4648-b273-871ac2c18c3c",
   "metadata": {},
   "source": [
    "<div align='center'><font size=\"6\">Natural Language Processing(Deep Learning Model)</font></div>\n",
    "\n",
    "<hr>\n",
    "\n",
    "\n",
    "## Dataset\n",
    "The datasets contains a set of tweets which have been divided into a training and a test set. The training set contains a target column identifying whether the tweet pertains to Violence or not.\n",
    "\n",
    "The job is to create a DL model to predict whether the test set tweets belong to a violence or not, in the form of 1 or 0.This is a classic case of a Binary Classification problem. "
   ]
  },
  {
   "cell_type": "code",
   "execution_count": null,
   "id": "2c03a675-0362-45c3-878d-01a7fa46a6fc",
   "metadata": {},
   "outputs": [],
   "source": [
    "#Installing Necessary Modules\n",
    "\n",
    "pip install nlp\n",
    "pip install tensorflow"
   ]
  },
  {
   "cell_type": "markdown",
   "id": "42080cee-5f8d-4229-8ed8-e33862943278",
   "metadata": {},
   "source": [
    "## Importing Packages"
   ]
  },
  {
   "cell_type": "code",
   "execution_count": 1,
   "id": "1818c854-7843-4aba-885c-241e44eb62b3",
   "metadata": {},
   "outputs": [],
   "source": [
    "import pandas as pd\n",
    "import numpy as np\n",
    "import tensorflow as tf\n",
    "from tensorflow.keras.preprocessing.text import Tokenizer\n",
    "from tensorflow.keras.preprocessing.sequence import pad_sequences\n",
    "import matplotlib.pyplot as plt\n",
    "import nlp\n",
    "import random"
   ]
  },
  {
   "cell_type": "markdown",
   "id": "de03561a-e4c5-4f66-893e-8f463aef0add",
   "metadata": {},
   "source": [
    "## Loading Datasets and EDA"
   ]
  },
  {
   "cell_type": "code",
   "execution_count": 2,
   "id": "155699ac-8833-4d86-8850-efc2300f02a3",
   "metadata": {},
   "outputs": [],
   "source": [
    "train=pd.read_csv(\"train_prj.csv\")"
   ]
  },
  {
   "cell_type": "code",
   "execution_count": 3,
   "id": "5af3d7f4-aa80-4201-b3a5-7835889a481b",
   "metadata": {},
   "outputs": [
    {
     "data": {
      "text/html": [
       "<div>\n",
       "<style scoped>\n",
       "    .dataframe tbody tr th:only-of-type {\n",
       "        vertical-align: middle;\n",
       "    }\n",
       "\n",
       "    .dataframe tbody tr th {\n",
       "        vertical-align: top;\n",
       "    }\n",
       "\n",
       "    .dataframe thead th {\n",
       "        text-align: right;\n",
       "    }\n",
       "</style>\n",
       "<table border=\"1\" class=\"dataframe\">\n",
       "  <thead>\n",
       "    <tr style=\"text-align: right;\">\n",
       "      <th></th>\n",
       "      <th>id</th>\n",
       "      <th>label</th>\n",
       "      <th>tweet</th>\n",
       "    </tr>\n",
       "  </thead>\n",
       "  <tbody>\n",
       "    <tr>\n",
       "      <th>0</th>\n",
       "      <td>1</td>\n",
       "      <td>0</td>\n",
       "      <td>@user when a father is dysfunctional and is s...</td>\n",
       "    </tr>\n",
       "    <tr>\n",
       "      <th>1</th>\n",
       "      <td>2</td>\n",
       "      <td>0</td>\n",
       "      <td>@user @user thanks for #lyft credit i can't us...</td>\n",
       "    </tr>\n",
       "    <tr>\n",
       "      <th>2</th>\n",
       "      <td>3</td>\n",
       "      <td>0</td>\n",
       "      <td>bihday your majesty</td>\n",
       "    </tr>\n",
       "    <tr>\n",
       "      <th>3</th>\n",
       "      <td>4</td>\n",
       "      <td>0</td>\n",
       "      <td>#model   i love u take with u all the time in ...</td>\n",
       "    </tr>\n",
       "    <tr>\n",
       "      <th>4</th>\n",
       "      <td>5</td>\n",
       "      <td>0</td>\n",
       "      <td>factsguide: society now    #motivation</td>\n",
       "    </tr>\n",
       "  </tbody>\n",
       "</table>\n",
       "</div>"
      ],
      "text/plain": [
       "   id  label                                              tweet\n",
       "0   1      0   @user when a father is dysfunctional and is s...\n",
       "1   2      0  @user @user thanks for #lyft credit i can't us...\n",
       "2   3      0                                bihday your majesty\n",
       "3   4      0  #model   i love u take with u all the time in ...\n",
       "4   5      0             factsguide: society now    #motivation"
      ]
     },
     "execution_count": 3,
     "metadata": {},
     "output_type": "execute_result"
    }
   ],
   "source": [
    "train.head()"
   ]
  },
  {
   "cell_type": "code",
   "execution_count": 4,
   "id": "2dccf94e-583e-49e5-b2da-bf0f7932e543",
   "metadata": {},
   "outputs": [],
   "source": [
    "test=pd.read_csv(\"test_prj.csv\")"
   ]
  },
  {
   "cell_type": "code",
   "execution_count": 5,
   "id": "f4739d57-c812-4f9b-b8bd-b45ad58398da",
   "metadata": {},
   "outputs": [
    {
     "data": {
      "text/plain": [
       "id       0\n",
       "label    0\n",
       "tweet    0\n",
       "dtype: int64"
      ]
     },
     "execution_count": 5,
     "metadata": {},
     "output_type": "execute_result"
    }
   ],
   "source": [
    "#Missing values in training set\n",
    "train.isnull().sum()"
   ]
  },
  {
   "cell_type": "code",
   "execution_count": 6,
   "id": "5dca281d-0529-48db-a89e-f6a6d2cb8e25",
   "metadata": {},
   "outputs": [
    {
     "data": {
      "text/plain": [
       "(31962, 3)"
      ]
     },
     "execution_count": 6,
     "metadata": {},
     "output_type": "execute_result"
    }
   ],
   "source": [
    "#no of records and columns in training data\n",
    "train.shape"
   ]
  },
  {
   "cell_type": "markdown",
   "id": "db5f8463-e762-4858-b972-309d8ab59660",
   "metadata": {},
   "source": [
    "* ** Distribution of the label Column**\n",
    "\n",
    "We have to predict whether a given tweet is about a violence one or not. - If so, predict a 1. If not, predict a 0."
   ]
  },
  {
   "cell_type": "code",
   "execution_count": 7,
   "id": "00909195-822e-4a33-9a01-e33a8b34c5c8",
   "metadata": {},
   "outputs": [
    {
     "data": {
      "text/plain": [
       "label\n",
       "0    29720\n",
       "1     2242\n",
       "Name: count, dtype: int64"
      ]
     },
     "execution_count": 7,
     "metadata": {},
     "output_type": "execute_result"
    }
   ],
   "source": [
    "train['label'].value_counts()"
   ]
  },
  {
   "cell_type": "code",
   "execution_count": 8,
   "id": "c8acbabd-49e9-4e8c-be2f-d4aba78947dd",
   "metadata": {},
   "outputs": [],
   "source": [
    "#Function to get tweets and labels in seperate lists\n",
    "def get_tweet(data):\n",
    "    tweets=data['tweet']\n",
    "    labels=data['label']\n",
    "    return tweets,labels"
   ]
  },
  {
   "cell_type": "code",
   "execution_count": 9,
   "id": "7e6f3913-9dc1-465c-8407-6332ed5cebda",
   "metadata": {},
   "outputs": [],
   "source": [
    "tweets,labels=get_tweet(train)"
   ]
  },
  {
   "cell_type": "code",
   "execution_count": 10,
   "id": "a0bffacb-b491-4f42-bb33-814eefd5987b",
   "metadata": {},
   "outputs": [
    {
     "name": "stdout",
     "output_type": "stream",
     "text": [
      "#abc2020 getting ready 2 remove the victums frm #pulseclub #prayfororlando   : 0\n"
     ]
    }
   ],
   "source": [
    "print(tweets[50],\":\",labels[50])"
   ]
  },
  {
   "cell_type": "markdown",
   "id": "a656df3a-446f-401a-a349-fa35a9dd3756",
   "metadata": {},
   "source": [
    "## TOKENISATION\n",
    "\n",
    "Tokenization is a process that splits an input sequence into so-called tokens where the tokens can be a word, sentence, paragraph etc. Base upon the type of tokens we want, tokenization can be of various types."
   ]
  },
  {
   "cell_type": "code",
   "execution_count": 12,
   "id": "7b0e45d6-f131-4f2c-bc8e-19f3d8040f8f",
   "metadata": {},
   "outputs": [],
   "source": [
    "tokenizer=Tokenizer(num_words=10000,oov_token=\"<UNK>\")#Change the num_words acc to your need\n",
    "tokenizer.fit_on_texts(tweets)"
   ]
  },
  {
   "cell_type": "code",
   "execution_count": 13,
   "id": "c1960b9e-7345-470e-a714-632f479ccacd",
   "metadata": {},
   "outputs": [
    {
     "name": "stdout",
     "output_type": "stream",
     "text": [
      "#abc2020 getting ready 2 remove the victums frm #pulseclub #prayfororlando  \n"
     ]
    },
    {
     "data": {
      "text/plain": [
       "[[1, 206, 172, 78, 2760, 3, 1, 2761, 1, 561]]"
      ]
     },
     "execution_count": 13,
     "metadata": {},
     "output_type": "execute_result"
    }
   ],
   "source": [
    "#Convering tokens to a vector of sequences for a specific tweet.\n",
    "print(tweets[50])\n",
    "tokenizer.texts_to_sequences([tweets[50]])"
   ]
  },
  {
   "cell_type": "markdown",
   "id": "81d71107-bcbc-44c7-bb23-48f1b6ec8df8",
   "metadata": {},
   "source": [
    "## Padding and Truncation"
   ]
  },
  {
   "cell_type": "code",
   "execution_count": 14,
   "id": "a59e3cb1-e43d-4dc4-acd3-83b4e6e561d3",
   "metadata": {},
   "outputs": [
    {
     "data": {
      "image/png": "[encoded data removed]",
      "text/plain": [
       "<Figure size 640x480 with 1 Axes>"
      ]
     },
     "metadata": {},
     "output_type": "display_data"
    }
   ],
   "source": [
    "#checking the length of each words in the tweet(Among the selected limit).\n",
    "lengths=[len(s.split()) for s in tweets]\n",
    "plt.hist(lengths,bins =len(set(lengths)))\n",
    "plt.show()"
   ]
  },
  {
   "cell_type": "code",
   "execution_count": 15,
   "id": "41af578f-6ee3-46ac-aa8c-9980ffd5a61a",
   "metadata": {},
   "outputs": [],
   "source": [
    "maxlen=26#change the value acc to your need\n"
   ]
  },
  {
   "cell_type": "code",
   "execution_count": 16,
   "id": "b8645ad8-1bcd-4c84-8ba6-312acf3997bb",
   "metadata": {},
   "outputs": [],
   "source": [
    "#Function for Convering tokens to a vector of Padded sequences for all the tweets in the Data-Set.\n",
    "def get_sequences(tokenizer,tweets):\n",
    "    sequences=tokenizer.texts_to_sequences(tweets)\n",
    "    padded_sequences=pad_sequences(sequences,truncating=\"post\",padding='post',maxlen=maxlen)#Creating Padded Sequence with help of truncation.\n",
    "    return padded_sequences"
   ]
  },
  {
   "cell_type": "code",
   "execution_count": 17,
   "id": "d2fd3f0a-6a2d-4c6b-b4b3-1102dc76bd02",
   "metadata": {},
   "outputs": [],
   "source": [
    "padded_train_sequences=get_sequences(tokenizer,tweets)"
   ]
  },
  {
   "cell_type": "code",
   "execution_count": 18,
   "id": "81a49f8c-79b9-4d17-b529-5b21aaa1ae11",
   "metadata": {},
   "outputs": [
    {
     "data": {
      "text/plain": [
       "array([   1,  206,  172,   78, 2760,    3,    1, 2761,    1,  561,    0,\n",
       "          0,    0,    0,    0,    0,    0,    0,    0,    0,    0,    0,\n",
       "          0,    0,    0,    0])"
      ]
     },
     "execution_count": 18,
     "metadata": {},
     "output_type": "execute_result"
    }
   ],
   "source": [
    "padded_train_sequences[50]"
   ]
  },
  {
   "cell_type": "code",
   "execution_count": null,
   "id": "94ab315f-623f-4955-a764-c8a4aadb2e3f",
   "metadata": {},
   "outputs": [],
   "source": [
    "#Each and every tweets in training data set will be padded with length 26.\n",
    "lengths=[len(i) for i in padded_train_sequences]\n",
    "plt.hist(lengths)\n",
    "plt.show()"
   ]
  },
  {
   "cell_type": "code",
   "execution_count": null,
   "id": "2bee0f97-f31f-428c-a2e6-0deaaa5e853b",
   "metadata": {},
   "outputs": [],
   "source": [
    "#class_to_label={\"Non-violence\":0,\"Violence\":1}\n",
    "#class_to_label"
   ]
  },
  {
   "cell_type": "code",
   "execution_count": 19,
   "id": "37c4c293-f4b0-4760-a8d2-7ecfb913ee9d",
   "metadata": {},
   "outputs": [
    {
     "data": {
      "text/plain": [
       "{0: 'Non-violence', 1: 'Violence'}"
      ]
     },
     "execution_count": 19,
     "metadata": {},
     "output_type": "execute_result"
    }
   ],
   "source": [
    "#Converting numeric representation to lexical representation\n",
    "label_to_class={0:\"Non-violence\",1:\"Violence\"}\n",
    "label_to_class"
   ]
  },
  {
   "cell_type": "code",
   "execution_count": 20,
   "id": "e11d26b6-2b5d-4ef8-9362-6c6a99f2fef6",
   "metadata": {},
   "outputs": [],
   "source": [
    "#labels_ids=lambda labels:np.array([class_to_label.get(x) for x in labels])\n",
    "\n",
    "ids_labels=lambda ids:np.array([label_to_class.get(x) for x in ids])#Function to apply the conversion to the whole data-set."
   ]
  },
  {
   "cell_type": "code",
   "execution_count": 21,
   "id": "a8e6a82b-ea33-4596-bb0a-67adde671328",
   "metadata": {},
   "outputs": [
    {
     "data": {
      "text/plain": [
       "'Violence'"
      ]
     },
     "execution_count": 21,
     "metadata": {},
     "output_type": "execute_result"
    }
   ],
   "source": [
    "train_labels=ids_labels(labels)#Function call is done here\n",
    "train_labels[13]"
   ]
  },
  {
   "cell_type": "code",
   "execution_count": null,
   "id": "1350e57e-cbc5-43f4-a191-9da5e60c72c5",
   "metadata": {},
   "outputs": [],
   "source": [
    "train.loc[train['label']==1,:][:5]#To get Violent tweet from training set, for evaluating the prediction is made correctly or not.\n",
    "train.loc[train['label']==0,:][:5]#To get Violent tweet from training set, for evaluating the prediction is made correctly or not."
   ]
  },
  {
   "cell_type": "markdown",
   "id": "5c36ac5a-b233-4303-911e-9d3b7b8b287d",
   "metadata": {},
   "source": [
    "## Model Creation\n",
    "\n",
    "* Sequential model is being created with embedding layer in first place since we have used padded sequence.\n",
    "* Then two Bi-directional layers are used along with LSTM activation function.\n",
    "* At last a dense layer is used as output layer to get the output sequences of the hideen input layers, used above and to give the correct classification of the tweet as either 0 or 1.The activation function used here is SoftMax."
   ]
  },
  {
   "cell_type": "code",
   "execution_count": 22,
   "id": "d164703d-041b-466e-817e-647fca0950a5",
   "metadata": {},
   "outputs": [],
   "source": [
    "model=tf.keras.Sequential([tf.keras.layers.Embedding(10000,16),\n",
    "                           tf.keras.layers.Bidirectional(tf.keras.layers.LSTM(20,return_sequences=True)),\n",
    "                           tf.keras.layers.Bidirectional(tf.keras.layers.LSTM(20)),\n",
    "                           tf.keras.layers.Dense(2,activation='softmax')])\n",
    "model.compile(\n",
    "    loss='sparse_categorical_crossentropy',#To get the loss and cost value\n",
    "    optimizer='adam',#To get the best-fit equation(approximation)\n",
    "    metrics=['accuracy']#To evaluate the model\n",
    ")\n",
    "                           "
   ]
  },
  {
   "cell_type": "code",
   "execution_count": 23,
   "id": "61d669cc-5ac3-45c0-bc33-eb6ae7121d60",
   "metadata": {},
   "outputs": [
    {
     "data": {
      "text/html": [
       "<pre style=\"white-space:pre;overflow-x:auto;line-height:normal;font-family:Menlo,'DejaVu Sans Mono',consolas,'Courier New',monospace\"><span style=\"font-weight: bold\">Model: \"sequential\"</span>\n",
       "</pre>\n"
      ],
      "text/plain": [
       "\u001b[1mModel: \"sequential\"\u001b[0m\n"
      ]
     },
     "metadata": {},
     "output_type": "display_data"
    },
    {
     "data": {
      "text/html": [
       "<pre style=\"white-space:pre;overflow-x:auto;line-height:normal;font-family:Menlo,'DejaVu Sans Mono',consolas,'Courier New',monospace\">┏━━━━━━━━━━━━━━━━━━━━━━━━━━━━━━━━━┳━━━━━━━━━━━━━━━━━━━━━━━━┳━━━━━━━━━━━━━━━┓\n",
       "┃<span style=\"font-weight: bold\"> Layer (type)                    </span>┃<span style=\"font-weight: bold\"> Output Shape           </span>┃<span style=\"font-weight: bold\">       Param # </span>┃\n",
       "┡━━━━━━━━━━━━━━━━━━━━━━━━━━━━━━━━━╇━━━━━━━━━━━━━━━━━━━━━━━━╇━━━━━━━━━━━━━━━┩\n",
       "│ embedding (<span style=\"color: #0087ff; text-decoration-color: #0087ff\">Embedding</span>)           │ ?                      │   <span style=\"color: #00af00; text-decoration-color: #00af00\">0</span> (unbuilt) │\n",
       "├─────────────────────────────────┼────────────────────────┼───────────────┤\n",
       "│ bidirectional (<span style=\"color: #0087ff; text-decoration-color: #0087ff\">Bidirectional</span>)   │ ?                      │   <span style=\"color: #00af00; text-decoration-color: #00af00\">0</span> (unbuilt) │\n",
       "├─────────────────────────────────┼────────────────────────┼───────────────┤\n",
       "│ bidirectional_1 (<span style=\"color: #0087ff; text-decoration-color: #0087ff\">Bidirectional</span>) │ ?                      │   <span style=\"color: #00af00; text-decoration-color: #00af00\">0</span> (unbuilt) │\n",
       "├─────────────────────────────────┼────────────────────────┼───────────────┤\n",
       "│ dense (<span style=\"color: #0087ff; text-decoration-color: #0087ff\">Dense</span>)                   │ ?                      │   <span style=\"color: #00af00; text-decoration-color: #00af00\">0</span> (unbuilt) │\n",
       "└─────────────────────────────────┴────────────────────────┴───────────────┘\n",
       "</pre>\n"
      ],
      "text/plain": [
       "┏━━━━━━━━━━━━━━━━━━━━━━━━━━━━━━━━━┳━━━━━━━━━━━━━━━━━━━━━━━━┳━━━━━━━━━━━━━━━┓\n",
       "┃\u001b[1m \u001b[0m\u001b[1mLayer (type)                   \u001b[0m\u001b[1m \u001b[0m┃\u001b[1m \u001b[0m\u001b[1mOutput Shape          \u001b[0m\u001b[1m \u001b[0m┃\u001b[1m \u001b[0m\u001b[1m      Param #\u001b[0m\u001b[1m \u001b[0m┃\n",
       "┡━━━━━━━━━━━━━━━━━━━━━━━━━━━━━━━━━╇━━━━━━━━━━━━━━━━━━━━━━━━╇━━━━━━━━━━━━━━━┩\n",
       "│ embedding (\u001b[38;5;33mEmbedding\u001b[0m)           │ ?                      │   \u001b[38;5;34m0\u001b[0m (unbuilt) │\n",
       "├─────────────────────────────────┼────────────────────────┼───────────────┤\n",
       "│ bidirectional (\u001b[38;5;33mBidirectional\u001b[0m)   │ ?                      │   \u001b[38;5;34m0\u001b[0m (unbuilt) │\n",
       "├─────────────────────────────────┼────────────────────────┼───────────────┤\n",
       "│ bidirectional_1 (\u001b[38;5;33mBidirectional\u001b[0m) │ ?                      │   \u001b[38;5;34m0\u001b[0m (unbuilt) │\n",
       "├─────────────────────────────────┼────────────────────────┼───────────────┤\n",
       "│ dense (\u001b[38;5;33mDense\u001b[0m)                   │ ?                      │   \u001b[38;5;34m0\u001b[0m (unbuilt) │\n",
       "└─────────────────────────────────┴────────────────────────┴───────────────┘\n"
      ]
     },
     "metadata": {},
     "output_type": "display_data"
    },
    {
     "data": {
      "text/html": [
       "<pre style=\"white-space:pre;overflow-x:auto;line-height:normal;font-family:Menlo,'DejaVu Sans Mono',consolas,'Courier New',monospace\"><span style=\"font-weight: bold\"> Total params: </span><span style=\"color: #00af00; text-decoration-color: #00af00\">0</span> (0.00 B)\n",
       "</pre>\n"
      ],
      "text/plain": [
       "\u001b[1m Total params: \u001b[0m\u001b[38;5;34m0\u001b[0m (0.00 B)\n"
      ]
     },
     "metadata": {},
     "output_type": "display_data"
    },
    {
     "data": {
      "text/html": [
       "<pre style=\"white-space:pre;overflow-x:auto;line-height:normal;font-family:Menlo,'DejaVu Sans Mono',consolas,'Courier New',monospace\"><span style=\"font-weight: bold\"> Trainable params: </span><span style=\"color: #00af00; text-decoration-color: #00af00\">0</span> (0.00 B)\n",
       "</pre>\n"
      ],
      "text/plain": [
       "\u001b[1m Trainable params: \u001b[0m\u001b[38;5;34m0\u001b[0m (0.00 B)\n"
      ]
     },
     "metadata": {},
     "output_type": "display_data"
    },
    {
     "data": {
      "text/html": [
       "<pre style=\"white-space:pre;overflow-x:auto;line-height:normal;font-family:Menlo,'DejaVu Sans Mono',consolas,'Courier New',monospace\"><span style=\"font-weight: bold\"> Non-trainable params: </span><span style=\"color: #00af00; text-decoration-color: #00af00\">0</span> (0.00 B)\n",
       "</pre>\n"
      ],
      "text/plain": [
       "\u001b[1m Non-trainable params: \u001b[0m\u001b[38;5;34m0\u001b[0m (0.00 B)\n"
      ]
     },
     "metadata": {},
     "output_type": "display_data"
    }
   ],
   "source": [
    "model.summary()#It will return the summary of the model we have built.Due to version compatability the output shape and parameters is not returned.\n",
    "               #But the model has been built successfully with the credintials we gave."
   ]
  },
  {
   "cell_type": "markdown",
   "id": "bc295508-ee11-41cc-ba56-3dcb65136a96",
   "metadata": {},
   "source": [
    "##  Model Training and calculating the accuracy\n",
    "\n",
    "* Here we are building the model and evaluating the model with 10 epochs.One epoch means one front_propagation and back-propagation.\n",
    "* The sequence converted from tweets and labels, associated with the tweets are used as Validation data.We have used callback argument to initialise the evaluation metrics and the early stopping criteria.\n",
    "* Early stopping is used so that the epoch will stop automatically once the model attains the highest accuracy.No need for completing all the epochs since we have attained the highest accuracy."
   ]
  },
  {
   "cell_type": "code",
   "execution_count": 25,
   "id": "672bb71b-41c7-4a3b-98e0-a369e102950f",
   "metadata": {},
   "outputs": [],
   "source": [
    "#tweets,labels=get_tweet(train)\n",
    "seqquences=get_sequences(tokenizer,tweets)#Converting the tweeets to the required format before evaluation and building the model.\n",
    "#train_labels=ids_labels(labels)"
   ]
  },
  {
   "cell_type": "code",
   "execution_count": 30,
   "id": "05f1d9c0-65d6-428e-86c7-7b9361cd0e25",
   "metadata": {},
   "outputs": [
    {
     "name": "stdout",
     "output_type": "stream",
     "text": [
      "Epoch 1/10\n",
      "\u001b[1m999/999\u001b[0m \u001b[32m━━━━━━━━━━━━━━━━━━━━\u001b[0m\u001b[37m\u001b[0m \u001b[1m54s\u001b[0m 35ms/step - accuracy: 0.9314 - loss: 0.2365 - val_accuracy: 0.9738 - val_loss: 0.0773\n",
      "Epoch 2/10\n",
      "\u001b[1m999/999\u001b[0m \u001b[32m━━━━━━━━━━━━━━━━━━━━\u001b[0m\u001b[37m\u001b[0m \u001b[1m33s\u001b[0m 33ms/step - accuracy: 0.9715 - loss: 0.0779 - val_accuracy: 0.9818 - val_loss: 0.0511\n",
      "Epoch 3/10\n",
      "\u001b[1m999/999\u001b[0m \u001b[32m━━━━━━━━━━━━━━━━━━━━\u001b[0m\u001b[37m\u001b[0m \u001b[1m41s\u001b[0m 33ms/step - accuracy: 0.9820 - loss: 0.0522 - val_accuracy: 0.9911 - val_loss: 0.0307\n",
      "Epoch 4/10\n",
      "\u001b[1m999/999\u001b[0m \u001b[32m━━━━━━━━━━━━━━━━━━━━\u001b[0m\u001b[37m\u001b[0m \u001b[1m36s\u001b[0m 36ms/step - accuracy: 0.9882 - loss: 0.0339 - val_accuracy: 0.9935 - val_loss: 0.0228\n",
      "Epoch 5/10\n",
      "\u001b[1m999/999\u001b[0m \u001b[32m━━━━━━━━━━━━━━━━━━━━\u001b[0m\u001b[37m\u001b[0m \u001b[1m37s\u001b[0m 32ms/step - accuracy: 0.9912 - loss: 0.0261 - val_accuracy: 0.9952 - val_loss: 0.0163\n",
      "Epoch 6/10\n",
      "\u001b[1m999/999\u001b[0m \u001b[32m━━━━━━━━━━━━━━━━━━━━\u001b[0m\u001b[37m\u001b[0m \u001b[1m32s\u001b[0m 32ms/step - accuracy: 0.9947 - loss: 0.0170 - val_accuracy: 0.9958 - val_loss: 0.0131\n",
      "Epoch 7/10\n",
      "\u001b[1m999/999\u001b[0m \u001b[32m━━━━━━━━━━━━━━━━━━━━\u001b[0m\u001b[37m\u001b[0m \u001b[1m35s\u001b[0m 35ms/step - accuracy: 0.9954 - loss: 0.0143 - val_accuracy: 0.9970 - val_loss: 0.0099\n",
      "Epoch 8/10\n",
      "\u001b[1m999/999\u001b[0m \u001b[32m━━━━━━━━━━━━━━━━━━━━\u001b[0m\u001b[37m\u001b[0m \u001b[1m37s\u001b[0m 37ms/step - accuracy: 0.9961 - loss: 0.0123 - val_accuracy: 0.9954 - val_loss: 0.0147\n"
     ]
    }
   ],
   "source": [
    "m=model.fit(padded_train_sequences,labels,validation_data=(seqquences,labels),\n",
    "            epochs=10,callbacks=[tf.keras.callbacks.EarlyStopping(monitor='val_accuracy')])"
   ]
  },
  {
   "cell_type": "markdown",
   "id": "3c4d8ee6-6168-44c1-b5d4-93b83ac2f65e",
   "metadata": {},
   "source": [
    "## Evaluating the model prediction"
   ]
  },
  {
   "cell_type": "code",
   "execution_count": null,
   "id": "47c0735f-dd53-4bcf-87e6-b53e5678d4a2",
   "metadata": {},
   "outputs": [],
   "source": [
    "test_tweets,test_labels=get_tweet(test)\n",
    "test_sequences=get_sequences(tokenizer,test_tweets)#Since the test data given here has no label.We are using the training data itself.\n",
    "                                                   #To know whether the model is working fine or not with the help of Actual label and predicted label."
   ]
  },
  {
   "cell_type": "code",
   "execution_count": 32,
   "id": "ffa6dc06-b210-48e5-87b2-33c87654e7ed",
   "metadata": {},
   "outputs": [
    {
     "name": "stdout",
     "output_type": "stream",
     "text": [
      "Tweet : #pray for #orlando. so   this continues to happenððð   ==> label:  0\n",
      "\u001b[1m1/1\u001b[0m \u001b[32m━━━━━━━━━━━━━━━━━━━━\u001b[0m\u001b[37m\u001b[0m \u001b[1m1s\u001b[0m 1s/step\n",
      "Prediction:  Non-violence\n",
      "Tweet : a friend i've loved twenty years proved the true, greedy/unempathic essence of himself today, which i can no longer deny or excuse.    ==> label:  0\n",
      "\u001b[1m1/1\u001b[0m \u001b[32m━━━━━━━━━━━━━━━━━━━━\u001b[0m\u001b[37m\u001b[0m \u001b[1m0s\u001b[0m 16ms/step\n",
      "Prediction:  Non-violence\n",
      "Tweet : ma fleurette ð¯ð #instaboy#instaman#sefie#septum#friend #smiles#blackandwhite   ==> label:  0\n",
      "\u001b[1m1/1\u001b[0m \u001b[32m━━━━━━━━━━━━━━━━━━━━\u001b[0m\u001b[37m\u001b[0m \u001b[1m0s\u001b[0m 43ms/step\n",
      "Prediction:  Non-violence\n",
      "Tweet : i deserve this! i worked hard this week ð #workworkwork #gelato #haagendazs #choclatelover     ==> label:  0\n",
      "\u001b[1m1/1\u001b[0m \u001b[32m━━━━━━━━━━━━━━━━━━━━\u001b[0m\u001b[37m\u001b[0m \u001b[1m0s\u001b[0m 33ms/step\n",
      "Prediction:  Non-violence\n",
      "Tweet :   #pissed @user @user #strikes want money back !!! missing @user gutted ! so ur shit out a holes.... #engrus #twats  ==> label:  0\n",
      "\u001b[1m1/1\u001b[0m \u001b[32m━━━━━━━━━━━━━━━━━━━━\u001b[0m\u001b[37m\u001b[0m \u001b[1m0s\u001b[0m 31ms/step\n",
      "Prediction:  Non-violence\n"
     ]
    }
   ],
   "source": [
    "for _ in range(5):#loop to get five random tweet and their padded sequence.\n",
    "    i=random.randint(0,len(labels)-1)\n",
    "    print(\"Tweet :\",tweets[i],\" ==> label: \",labels[i])\n",
    "    p=model.predict(np.expand_dims(seqquences[i],axis=0))[0]\n",
    "    pred_class=label_to_class[np.argmax(p).astype('uint8')]\n",
    "    print(\"Prediction: \",pred_class)"
   ]
  },
  {
   "cell_type": "markdown",
   "id": "b881851f-564b-4611-85d0-42179c39f1cc",
   "metadata": {},
   "source": [
    "In the below cell,we can give a single tweet from the training data set that is pre-processed to evaluate the model prediction."
   ]
  },
  {
   "cell_type": "code",
   "execution_count": 33,
   "id": "0293d3c9-123c-4c93-b958-7e048dab1950",
   "metadata": {},
   "outputs": [
    {
     "name": "stdout",
     "output_type": "stream",
     "text": [
      "Tweet : @user #cnn calls #michigan middle school 'build the wall' chant '' #tcot    ==> label:  1\n",
      "\u001b[1m1/1\u001b[0m \u001b[32m━━━━━━━━━━━━━━━━━━━━\u001b[0m\u001b[37m\u001b[0m \u001b[1m0s\u001b[0m 31ms/step\n",
      "Prediction:  Violence\n"
     ]
    }
   ],
   "source": [
    "print(\"Tweet :\",tweets[13],\" ==> label: \",labels[13])#Give the index of tweet and label here\n",
    "p=model.predict(np.expand_dims(seqquences[13],axis=0))[0]#The padded sequence of the tweet will be given here and prediction is done.\n",
    "pred_class=label_to_class[np.argmax(p).astype('uint8')]\n",
    "print(\"Prediction: \",pred_class)"
   ]
  },
  {
   "cell_type": "code",
   "execution_count": null,
   "id": "fd829a43-e961-4627-bd36-febda3d4f1d9",
   "metadata": {},
   "outputs": [],
   "source": []
  }
 ],
 "metadata": {
  "kernelspec": {
   "display_name": "Python 3 (ipykernel)",
   "language": "python",
   "name": "python3"
  },
  "language_info": {
   "codemirror_mode": {
    "name": "ipython",
    "version": 3
   },
   "file_extension": ".py",
   "mimetype": "text/x-python",
   "name": "python",
   "nbconvert_exporter": "python",
   "pygments_lexer": "ipython3",
   "version": "3.11.7"
  }
 },
 "nbformat": 4,
 "nbformat_minor": 5
}
